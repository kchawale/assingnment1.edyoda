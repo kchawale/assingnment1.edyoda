{
  "nbformat": 4,
  "nbformat_minor": 0,
  "metadata": {
    "colab": {
      "provenance": [],
      "authorship_tag": "ABX9TyMhejE2W2DXuIfKBmT2elj/",
      "include_colab_link": true
    },
    "kernelspec": {
      "name": "python3",
      "display_name": "Python 3"
    },
    "language_info": {
      "name": "python"
    }
  },
  "cells": [
    {
      "cell_type": "markdown",
      "metadata": {
        "id": "view-in-github",
        "colab_type": "text"
      },
      "source": [
        "<a href=\"https://colab.research.google.com/github/kchawale/assingnment1.edyoda/blob/main/assignment_1_count_of_even_and_odd_no_.ipynb\" target=\"_parent\"><img src=\"https://colab.research.google.com/assets/colab-badge.svg\" alt=\"Open In Colab\"/></a>"
      ]
    },
    {
      "cell_type": "code",
      "source": [
        "l=[1,2,3,4,5,6,7,8,9]\n",
        "even_num,odd_num = 0,0\n",
        "for num in l:\n",
        "\tif num%2==0:\n",
        "\t\teven_num+=1\n",
        "\telse:\n",
        "\t\todd_num +=1\n",
        "print(\"number of even number\",even_num)\n",
        "print(\"number of odd number\",odd_num)"
      ],
      "metadata": {
        "colab": {
          "base_uri": "https://localhost:8080/"
        },
        "id": "1LeiEzyD-Ppr",
        "outputId": "c4660b99-ec2c-437a-d50f-7cc76670a1f0"
      },
      "execution_count": null,
      "outputs": [
        {
          "output_type": "stream",
          "name": "stdout",
          "text": [
            "number of even number 4\n",
            "number of odd number 5\n"
          ]
        }
      ]
    }
  ]
}