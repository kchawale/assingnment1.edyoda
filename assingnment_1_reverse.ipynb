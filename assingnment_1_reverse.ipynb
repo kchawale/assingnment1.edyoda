{
  "nbformat": 4,
  "nbformat_minor": 0,
  "metadata": {
    "colab": {
      "provenance": [],
      "authorship_tag": "ABX9TyO11H/6EYJ+PDMpUcPO2L+N",
      "include_colab_link": true
    },
    "kernelspec": {
      "name": "python3",
      "display_name": "Python 3"
    },
    "language_info": {
      "name": "python"
    }
  },
  "cells": [
    {
      "cell_type": "markdown",
      "metadata": {
        "id": "view-in-github",
        "colab_type": "text"
      },
      "source": [
        "<a href=\"https://colab.research.google.com/github/kchawale/assingnment1.edyoda/blob/main/assingnment_1_reverse.ipynb\" target=\"_parent\"><img src=\"https://colab.research.google.com/assets/colab-badge.svg\" alt=\"Open In Colab\"/></a>"
      ]
    },
    {
      "cell_type": "code",
      "execution_count": null,
      "metadata": {
        "colab": {
          "base_uri": "https://localhost:8080/"
        },
        "id": "5OOqIpFy3u8i",
        "outputId": "eb532860-a3c9-4aad-a64a-e6b5abd4b5e3"
      },
      "outputs": [
        {
          "output_type": "stream",
          "name": "stdout",
          "text": [
            "enter a namemadhuri\n",
            "iruhdam\n"
          ]
        }
      ],
      "source": [
        "#reverse the input name\n",
        "name = str(input(\"enter a name\"))\n",
        "print(name[::-1] )"
      ]
    },
    {
      "cell_type": "code",
      "source": [
        "#reverse the input name\n",
        "inputstr = str(input(\"enter your name\"))\n",
        "final =''\n",
        "for i in range(len(inputstr)-1,-1,-1):\n",
        "  final=final+inputstr[i]\n",
        "print(final)\n"
      ],
      "metadata": {
        "colab": {
          "base_uri": "https://localhost:8080/"
        },
        "id": "mTOO3CWf7lpV",
        "outputId": "bd74ebd4-3c01-4eca-ab3d-a381a1854a5a"
      },
      "execution_count": null,
      "outputs": [
        {
          "output_type": "stream",
          "name": "stdout",
          "text": [
            "enter your namekiran\n",
            "narik\n"
          ]
        }
      ]
    }
  ]
}