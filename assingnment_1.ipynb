{
  "nbformat": 4,
  "nbformat_minor": 0,
  "metadata": {
    "colab": {
      "provenance": [],
      "authorship_tag": "ABX9TyNKCovVQylfP10FHcWLZDM0",
      "include_colab_link": true
    },
    "kernelspec": {
      "name": "python3",
      "display_name": "Python 3"
    },
    "language_info": {
      "name": "python"
    }
  },
  "cells": [
    {
      "cell_type": "markdown",
      "metadata": {
        "id": "view-in-github",
        "colab_type": "text"
      },
      "source": [
        "<a href=\"https://colab.research.google.com/github/kchawale/assingnment1.edyoda/blob/main/assingnment_1.ipynb\" target=\"_parent\"><img src=\"https://colab.research.google.com/assets/colab-badge.svg\" alt=\"Open In Colab\"/></a>"
      ]
    },
    {
      "cell_type": "code",
      "execution_count": null,
      "metadata": {
        "colab": {
          "base_uri": "https://localhost:8080/"
        },
        "id": "p0VS88O74eSC",
        "outputId": "141a0450-b6ee-4a53-9744-029e39421a87"
      },
      "outputs": [
        {
          "output_type": "stream",
          "name": "stdout",
          "text": [
            "enter the number10\n",
            "0 1 1 2 3 5 8 13 21 34 "
          ]
        }
      ],
      "source": [
        "# Write a Python program to get the Fibonacci series between 0 to 50\n",
        "\n",
        "num = int(input(\"enter the number\"))\n",
        "n1 =0\n",
        "n2 =1\n",
        "sum =0\n",
        "if (num<=0):\n",
        "  print(\"enter a valid number greater than 0:\")\n",
        "else:\n",
        "    for i in range (0, num):\n",
        "      print(sum, end =\" \")\n",
        "      n1 =n2\n",
        "      n2 = sum\n",
        "      sum = n1+n2\n",
        "   "
      ]
    }
  ]
}